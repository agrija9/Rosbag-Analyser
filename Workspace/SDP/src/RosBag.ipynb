{
 "cells": [
  {
   "cell_type": "markdown",
   "metadata": {},
   "source": [
    "# RosBag python class to process bag files \n",
    "\n",
    "- Python 3.6 environment\n",
    "- This notebook runs on a ROS kinetic environment\n",
    "- Notebook with ros runs via: pip install jupyros\n",
    "- rosbag was installed using pip3"
   ]
  },
  {
   "cell_type": "code",
   "execution_count": 21,
   "metadata": {},
   "outputs": [],
   "source": [
    "# TODO: Discuss with divin if bag_info and bag content are necessary\n",
    "# TODO: convert to csv \n",
    "# TODO: use pandas to plot"
   ]
  },
  {
   "cell_type": "markdown",
   "metadata": {},
   "source": [
    "## Import libraries"
   ]
  },
  {
   "cell_type": "code",
   "execution_count": 6,
   "metadata": {},
   "outputs": [
    {
     "name": "stdout",
     "output_type": "stream",
     "text": [
      "3.6.9 (default, Jul  3 2019, 15:36:16) \n",
      "[GCC 5.4.0 20160609]\n"
     ]
    }
   ],
   "source": [
    "# jupyter kernel\n",
    "import sys\n",
    "print(sys.version)"
   ]
  },
  {
   "cell_type": "code",
   "execution_count": 63,
   "metadata": {},
   "outputs": [],
   "source": [
    "import rosbag\n",
    "import time\n",
    "import glob\n",
    "import rospy\n",
    "import pandas as pd \n",
    "import numpy as np\n",
    "import rosbag_pandas"
   ]
  },
  {
   "cell_type": "code",
   "execution_count": 51,
   "metadata": {},
   "outputs": [],
   "source": [
    "class RosBag():\n",
    "    \"\"\"\n",
    "    RosBag object containing methods to:\n",
    "    Read, pre-process and plot data given a ROS bag file\n",
    "    \n",
    "    Input: bag_name\n",
    "        string: name of bag file in directory\n",
    "    \"\"\"\n",
    "    \n",
    "    def __init__(self, bag_name):\n",
    "        self.bag = rosbag.Bag(bag_name)\n",
    "    \n",
    "    def convert_time(self, tm):\n",
    "        return time.strftime(\"%a, %d %b %Y %H:%M:%S +0000\", time.localtime(tm))\n",
    "    \n",
    "    def read_message(msg):\n",
    "        headers = msg.__slots__\n",
    "        for i in headers:\n",
    "            print(i + ' : ' + str(getattr(msg, i)))\n",
    "        \n",
    "    def bag_metadata(self):\n",
    "        print('--------------------------------------------------------------------')\n",
    "        print(\"RosBag meta data:\")\n",
    "        print(self.bag)\n",
    "\n",
    "    def bag_info(self):\n",
    "        Start_Time = self.convert_time(self.bag.get_start_time())\n",
    "        End_Time = self.convert_time(self.bag.get_end_time())\n",
    "        Messages = self.bag.get_type_and_topic_info()[0].keys()\n",
    "        self.Topics = self.bag.get_type_and_topic_info()[1].keys()\n",
    "        self.msgs = [self.bag.get_type_and_topic_info()[1].get(i) for i in self.bag.get_type_and_topic_info()[1].keys()]\n",
    "        \n",
    "        print('Start Time : ' + str(Start_Time))\n",
    "        print('End Time : ' + str(End_Time))\n",
    "        print('Topics : ' + str(self.Topics))\n",
    "        print('Messages : ' + str(Messages))\n",
    "        \n",
    "        print('--------------------------------------------------------------------')\n",
    "        # TODO: printing is not convenient for long files\n",
    "        print('Topics and Messages :')\n",
    "        for idx, j in enumerate(self.Topics):\n",
    "            print('\\n')\n",
    "            print('Topic : ' + str(j))\n",
    "            print('Message : ' + str(self.msgs[idx].msg_type))\n",
    "            print('Count : ' + str(self.msgs[idx].message_count))\n",
    "            print('Connections : ' + str(self.msgs[idx].connections))\n",
    "            print('Frequency : ' + str(round(self.msgs[idx].frequency, 1)) + ' Hz')\n",
    "            \n",
    "        # self.bag.close()\n",
    "    \n",
    "    def bag_to_pandas(self):\n",
    "        # Get topics and messages\n",
    "        self.Topics = self.bag.get_type_and_topic_info()[1].keys()\n",
    "        self.msgs = [self.bag.get_type_and_topic_info()[1].get(i) for i in self.bag.get_type_and_topic_info()[1].keys()]\n",
    "        \n",
    "        # Create Pandas dataframe\n",
    "        df = pd.DataFrame(columns=self.Topics)\n",
    "        data = dict()\n",
    "        data[' '] = ['Message', 'Count', 'Connections', 'Frequency']\n",
    "        for idx, j in enumerate(self.Topics):\n",
    "            data[j] = [self.msgs[idx].msg_type, self.msgs[idx].message_count, \n",
    "                       self.msgs[idx].connections, round(self.msgs[idx].frequency, 1)]\n",
    "        \n",
    "        df1 = pd.DataFrame(data)\n",
    "        df = df.append(df1, ignore_index = True) \n",
    "        return df"
   ]
  },
  {
   "cell_type": "markdown",
   "metadata": {},
   "source": [
    "## Read bagfiles in folder\n"
   ]
  },
  {
   "cell_type": "code",
   "execution_count": 52,
   "metadata": {},
   "outputs": [
    {
     "name": "stdout",
     "output_type": "stream",
     "text": [
      "bagfiles/turtle_simulation.bag\n"
     ]
    }
   ],
   "source": [
    "bag_names = glob.glob(\"bagfiles/*.bag\")\n",
    "print(bag_names[0])"
   ]
  },
  {
   "cell_type": "markdown",
   "metadata": {},
   "source": [
    "## Instantiate ros_bag object"
   ]
  },
  {
   "cell_type": "code",
   "execution_count": 53,
   "metadata": {},
   "outputs": [],
   "source": [
    "ros_bag_turtle_sim = RosBag(bag_names[0])"
   ]
  },
  {
   "cell_type": "code",
   "execution_count": 54,
   "metadata": {},
   "outputs": [
    {
     "name": "stdout",
     "output_type": "stream",
     "text": [
      "--------------------------------------------------------------------\n",
      "RosBag meta data:\n",
      "path:        bagfiles/turtle_simulation.bag\n",
      "version:     2.0\n",
      "duration:    2:23s (143s)\n",
      "start:       Oct 24 2019 13:52:05.93 (1571917925.93)\n",
      "end:         Oct 24 2019 13:54:29.80 (1571918069.80)\n",
      "size:        1.2 MB\n",
      "messages:    18039\n",
      "compression: none [2/2 chunks]\n",
      "types:       geometry_msgs/Twist [9f195f881246fdfa2798d1d3eebca84a]\n",
      "             rosgraph_msgs/Log   [acffd30cd6b6de30f120938c17c593fb]\n",
      "             turtlesim/Color     [353891e354491c51aabe32df673fb446]\n",
      "             turtlesim/Pose      [863b248d5016ca62ea2e895ae5265cf9]\n",
      "topics:      /rosout                    4 msgs @ 54.5 kHz : rosgraph_msgs/Log   (2 connections)\n",
      "             /turtle1/cmd_vel          76 msgs @   4.0 Hz : geometry_msgs/Twist\n",
      "             /turtle1/color_sensor   8979 msgs @  62.8 Hz : turtlesim/Color    \n",
      "             /turtle1/pose           8980 msgs @  62.8 Hz : turtlesim/Pose\n"
     ]
    }
   ],
   "source": [
    "ros_bag_turtle_sim.bag_metadata()"
   ]
  },
  {
   "cell_type": "code",
   "execution_count": 55,
   "metadata": {},
   "outputs": [
    {
     "name": "stdout",
     "output_type": "stream",
     "text": [
      "Start Time : Thu, 24 Oct 2019 13:52:05 +0000\n",
      "End Time : Thu, 24 Oct 2019 13:54:29 +0000\n",
      "Topics : dict_keys(['/rosout', '/turtle1/cmd_vel', '/turtle1/color_sensor', '/turtle1/pose'])\n",
      "Messages : dict_keys(['geometry_msgs/Twist', 'rosgraph_msgs/Log', 'turtlesim/Color', 'turtlesim/Pose'])\n",
      "--------------------------------------------------------------------\n",
      "Topics and Messages :\n",
      "\n",
      "\n",
      "Topic : /rosout\n",
      "Message : rosgraph_msgs/Log\n",
      "Count : 4\n",
      "Connections : 2\n",
      "Frequency : 54471.5 Hz\n",
      "\n",
      "\n",
      "Topic : /turtle1/cmd_vel\n",
      "Message : geometry_msgs/Twist\n",
      "Count : 76\n",
      "Connections : 1\n",
      "Frequency : 4.0 Hz\n",
      "\n",
      "\n",
      "Topic : /turtle1/color_sensor\n",
      "Message : turtlesim/Color\n",
      "Count : 8979\n",
      "Connections : 1\n",
      "Frequency : 62.8 Hz\n",
      "\n",
      "\n",
      "Topic : /turtle1/pose\n",
      "Message : turtlesim/Pose\n",
      "Count : 8980\n",
      "Connections : 1\n",
      "Frequency : 62.8 Hz\n"
     ]
    }
   ],
   "source": [
    "ros_bag_turtle_sim.bag_info()"
   ]
  },
  {
   "cell_type": "markdown",
   "metadata": {},
   "source": [
    "## Convert to pandas"
   ]
  },
  {
   "cell_type": "code",
   "execution_count": 57,
   "metadata": {},
   "outputs": [
    {
     "name": "stderr",
     "output_type": "stream",
     "text": [
      "/home/hackerman/.local/lib/python3.6/site-packages/pandas/core/frame.py:7138: FutureWarning: Sorting because non-concatenation axis is not aligned. A future version\n",
      "of pandas will change to not sort by default.\n",
      "\n",
      "To accept the future behavior, pass 'sort=False'.\n",
      "\n",
      "To retain the current behavior and silence the warning, pass 'sort=True'.\n",
      "\n",
      "  sort=sort,\n"
     ]
    },
    {
     "data": {
      "text/html": [
       "<div>\n",
       "<style scoped>\n",
       "    .dataframe tbody tr th:only-of-type {\n",
       "        vertical-align: middle;\n",
       "    }\n",
       "\n",
       "    .dataframe tbody tr th {\n",
       "        vertical-align: top;\n",
       "    }\n",
       "\n",
       "    .dataframe thead th {\n",
       "        text-align: right;\n",
       "    }\n",
       "</style>\n",
       "<table border=\"1\" class=\"dataframe\">\n",
       "  <thead>\n",
       "    <tr style=\"text-align: right;\">\n",
       "      <th></th>\n",
       "      <th></th>\n",
       "      <th>/rosout</th>\n",
       "      <th>/turtle1/cmd_vel</th>\n",
       "      <th>/turtle1/color_sensor</th>\n",
       "      <th>/turtle1/pose</th>\n",
       "    </tr>\n",
       "  </thead>\n",
       "  <tbody>\n",
       "    <tr>\n",
       "      <th>0</th>\n",
       "      <td>Message</td>\n",
       "      <td>rosgraph_msgs/Log</td>\n",
       "      <td>geometry_msgs/Twist</td>\n",
       "      <td>turtlesim/Color</td>\n",
       "      <td>turtlesim/Pose</td>\n",
       "    </tr>\n",
       "    <tr>\n",
       "      <th>1</th>\n",
       "      <td>Count</td>\n",
       "      <td>4</td>\n",
       "      <td>76</td>\n",
       "      <td>8979</td>\n",
       "      <td>8980</td>\n",
       "    </tr>\n",
       "    <tr>\n",
       "      <th>2</th>\n",
       "      <td>Connections</td>\n",
       "      <td>2</td>\n",
       "      <td>1</td>\n",
       "      <td>1</td>\n",
       "      <td>1</td>\n",
       "    </tr>\n",
       "    <tr>\n",
       "      <th>3</th>\n",
       "      <td>Frequency</td>\n",
       "      <td>54471.5</td>\n",
       "      <td>4</td>\n",
       "      <td>62.8</td>\n",
       "      <td>62.8</td>\n",
       "    </tr>\n",
       "  </tbody>\n",
       "</table>\n",
       "</div>"
      ],
      "text/plain": [
       "                          /rosout     /turtle1/cmd_vel /turtle1/color_sensor  \\\n",
       "0      Message  rosgraph_msgs/Log  geometry_msgs/Twist       turtlesim/Color   \n",
       "1        Count                  4                   76                  8979   \n",
       "2  Connections                  2                    1                     1   \n",
       "3    Frequency            54471.5                    4                  62.8   \n",
       "\n",
       "    /turtle1/pose  \n",
       "0  turtlesim/Pose  \n",
       "1            8980  \n",
       "2               1  \n",
       "3            62.8  "
      ]
     },
     "execution_count": 57,
     "metadata": {},
     "output_type": "execute_result"
    }
   ],
   "source": [
    "# dataframe = rosbag_pandas.bag_to_dataframe(bag_names[0])\n",
    "dataframe_turtlesim = ros_bag_turtle_sim.bag_to_pandas()\n",
    "dataframe_turtlesim.head()"
   ]
  },
  {
   "cell_type": "code",
   "execution_count": 65,
   "metadata": {},
   "outputs": [],
   "source": [
    "# dataframe = rosbag_pandas.bag_to_dataframe(bag_names[0])"
   ]
  },
  {
   "cell_type": "code",
   "execution_count": null,
   "metadata": {},
   "outputs": [],
   "source": []
  }
 ],
 "metadata": {
  "kernelspec": {
   "display_name": "Python 3",
   "language": "python",
   "name": "python3"
  },
  "language_info": {
   "codemirror_mode": {
    "name": "ipython",
    "version": 3
   },
   "file_extension": ".py",
   "mimetype": "text/x-python",
   "name": "python",
   "nbconvert_exporter": "python",
   "pygments_lexer": "ipython3",
   "version": "3.6.9"
  }
 },
 "nbformat": 4,
 "nbformat_minor": 2
}
