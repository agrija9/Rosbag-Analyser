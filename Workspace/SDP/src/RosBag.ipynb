{
 "cells": [
  {
   "cell_type": "markdown",
   "metadata": {},
   "source": [
    "# RosBag python class to process bag files \n",
    "\n",
    "- Python 3.6 environment\n",
    "- This notebook runs on a ROS kinetic environment\n",
    "- Notebook with ros runs via: pip install jupyros\n",
    "- rosbag was installed using pip3"
   ]
  },
  {
   "cell_type": "code",
   "execution_count": 1,
   "metadata": {},
   "outputs": [],
   "source": [
    "# TODO: discuss reading large files & printing information\n",
    "# TODO: plot a pie chart of topics\n",
    "# TODO: plot a pie chart of messages of a topic\n",
    "# TODO: Discuss with divin if bag_info and bag_content are both necessary\n",
    "# TODO: convert to csv \n",
    "\n",
    "# TODO: add script for RosBag visualization (receives pd dataframe and generates multiple plots)"
   ]
  },
  {
   "cell_type": "markdown",
   "metadata": {},
   "source": [
    "## Import libraries"
   ]
  },
  {
   "cell_type": "code",
   "execution_count": 2,
   "metadata": {},
   "outputs": [
    {
     "name": "stdout",
     "output_type": "stream",
     "text": [
      "3.6.9 (default, Jul  3 2019, 15:36:16) \n",
      "[GCC 5.4.0 20160609]\n"
     ]
    }
   ],
   "source": [
    "# jupyter kernel\n",
    "import sys\n",
    "print(sys.version)"
   ]
  },
  {
   "cell_type": "code",
   "execution_count": 3,
   "metadata": {},
   "outputs": [
    {
     "name": "stderr",
     "output_type": "stream",
     "text": [
      "Failed to load Python extension for LZ4 support. LZ4 compression will not be available.\n"
     ]
    }
   ],
   "source": [
    "import rosbag\n",
    "import time\n",
    "import glob\n",
    "import rospy\n",
    "import pandas as pd\n",
    "# import rosbag_pandas\n",
    "import numpy as np\n",
    "import matplotlib\n",
    "import matplotlib.pyplot as plt"
   ]
  },
  {
   "cell_type": "code",
   "execution_count": 4,
   "metadata": {},
   "outputs": [],
   "source": [
    "class RosBag():\n",
    "    \"\"\"\n",
    "    RosBag object containing methods to:\n",
    "    Read, pre-process and plot data given a ROS bag file\n",
    "    \n",
    "    Input: bag_name\n",
    "        string: name of bag file in directory\n",
    "    \"\"\"\n",
    "    \n",
    "    def __init__(self, bag_name):\n",
    "        \"\"\"\n",
    "        Initialize attributes of bag file\n",
    "        \"\"\"\n",
    "        self.bag = rosbag.Bag(bag_name)\n",
    "        self.Start_Time = self.convert_time(self.bag.get_start_time())\n",
    "        self.End_Time = self.convert_time(self.bag.get_end_time())\n",
    "        self.Messages = self.bag.get_type_and_topic_info()[0].keys()\n",
    "        self.Topics = self.bag.get_type_and_topic_info()[1].keys()\n",
    "        self.msgs = [self.bag.get_type_and_topic_info()[1].get(i) for i in self.bag.get_type_and_topic_info()[1].keys()]\n",
    "    \n",
    "    def convert_time(self, tm):\n",
    "        return time.strftime(\"%a, %d %b %Y %H:%M:%S +0000\", time.localtime(tm))\n",
    "    \n",
    "    def read_message(msg):\n",
    "        headers = msg.__slots__\n",
    "        for i in headers:\n",
    "            print(i + ' : ' + str(getattr(msg, i)))\n",
    "        \n",
    "    def bag_metadata(self):\n",
    "        print('--------------------------------------------------------------------')\n",
    "        print(\"RosBag meta data:\")\n",
    "        print(self.bag)\n",
    "\n",
    "    # def bag_info(self):\n",
    "        # Start_Time = self.convert_time(self.bag.get_start_time())\n",
    "        # End_Time = self.convert_time(self.bag.get_end_time())\n",
    "        # Messages = self.bag.get_type_and_topic_info()[0].keys()\n",
    "        # self.Topics = self.bag.get_type_and_topic_info()[1].keys()\n",
    "        # self.msgs = [self.bag.get_type_and_topic_info()[1].get(i) for i in self.bag.get_type_and_topic_info()[1].keys()]\n",
    "        \n",
    "        # TODO: printing this much is not convenient for long files\n",
    "        # print('Start Time : ' + str(Start_Time))\n",
    "        # print('End Time : ' + str(End_Time))\n",
    "        # print('Topics : ' + str(self.Topics))\n",
    "        # print('Messages : ' + str(Messages))\n",
    "        \n",
    "        # print('--------------------------------------------------------------------')\n",
    "        # print('Topics and Messages :')\n",
    "        # for idx, j in enumerate(self.Topics):\n",
    "            # print('\\n')\n",
    "            # print('Topic : ' + str(j))\n",
    "            # print('Message : ' + str(self.msgs[idx].msg_type))\n",
    "            # print('Count : ' + str(self.msgs[idx].message_count))\n",
    "            # print('Connections : ' + str(self.msgs[idx].connections))\n",
    "            # print('Frequency : ' + str(round(self.msgs[idx].frequency, 1)) + ' Hz')\n",
    "            \n",
    "        # self.bag.close()\n",
    "    \n",
    "    def bag_to_pandas(self):\n",
    "        \n",
    "        # Create Pandas dataframe\n",
    "        self.df1 = pd.DataFrame(columns = ['Topic', 'Message', 'Count', 'Connections', 'Frequency'])\n",
    "        \n",
    "        for idx, j in enumerate(self.Topics):\n",
    "            self.df1 = self.df1.append({'Topic' : j, 'Message' : self.msgs[idx].msg_type, \n",
    "                          'Count' : self.msgs[idx].message_count, 'Connections' : self.msgs[idx].connections, \n",
    "                          'Frequency' : self.msgs[idx].frequency}, ignore_index=True)\n",
    "\n",
    "        # self.df1 = self.df1.set_index('Topic')\n",
    "        \n",
    "        return self.df1\n",
    "    \n",
    "    def bag_to_csv(self):\n",
    "        # NOTE: This method relies on bag_to_pandas (work this out)\n",
    "        return self.df1.to_csv('Rosbag_Info.csv', index=True)"
   ]
  },
  {
   "cell_type": "markdown",
   "metadata": {},
   "source": [
    "## Read bagfiles in folder\n"
   ]
  },
  {
   "cell_type": "code",
   "execution_count": 5,
   "metadata": {},
   "outputs": [
    {
     "name": "stdout",
     "output_type": "stream",
     "text": [
      "bagfiles/turtle_simulation.bag\n"
     ]
    }
   ],
   "source": [
    "bag_names = glob.glob(\"bagfiles/*.bag\")\n",
    "print(bag_names[0])"
   ]
  },
  {
   "cell_type": "markdown",
   "metadata": {},
   "source": [
    "## Instantiate ros_bag object"
   ]
  },
  {
   "cell_type": "code",
   "execution_count": 6,
   "metadata": {},
   "outputs": [
    {
     "name": "stdout",
     "output_type": "stream",
     "text": [
      "--------------------------------------------------------------------\n",
      "RosBag meta data:\n",
      "path:        bagfiles/turtle_simulation.bag\n",
      "version:     2.0\n",
      "duration:    2:23s (143s)\n",
      "start:       Oct 24 2019 13:52:05.93 (1571917925.93)\n",
      "end:         Oct 24 2019 13:54:29.80 (1571918069.80)\n",
      "size:        1.2 MB\n",
      "messages:    18039\n",
      "compression: none [2/2 chunks]\n",
      "types:       geometry_msgs/Twist [9f195f881246fdfa2798d1d3eebca84a]\n",
      "             rosgraph_msgs/Log   [acffd30cd6b6de30f120938c17c593fb]\n",
      "             turtlesim/Color     [353891e354491c51aabe32df673fb446]\n",
      "             turtlesim/Pose      [863b248d5016ca62ea2e895ae5265cf9]\n",
      "topics:      /rosout                    4 msgs @ 54.5 kHz : rosgraph_msgs/Log   (2 connections)\n",
      "             /turtle1/cmd_vel          76 msgs @   4.0 Hz : geometry_msgs/Twist\n",
      "             /turtle1/color_sensor   8979 msgs @  62.8 Hz : turtlesim/Color    \n",
      "             /turtle1/pose           8980 msgs @  62.8 Hz : turtlesim/Pose\n"
     ]
    }
   ],
   "source": [
    "ros_bag_turtle_sim = RosBag(bag_names[0])\n",
    "ros_bag_turtle_sim.bag_metadata()"
   ]
  },
  {
   "cell_type": "markdown",
   "metadata": {},
   "source": [
    "## Convert bag to pandas"
   ]
  },
  {
   "cell_type": "code",
   "execution_count": 7,
   "metadata": {},
   "outputs": [
    {
     "data": {
      "text/html": [
       "<div>\n",
       "<style scoped>\n",
       "    .dataframe tbody tr th:only-of-type {\n",
       "        vertical-align: middle;\n",
       "    }\n",
       "\n",
       "    .dataframe tbody tr th {\n",
       "        vertical-align: top;\n",
       "    }\n",
       "\n",
       "    .dataframe thead th {\n",
       "        text-align: right;\n",
       "    }\n",
       "</style>\n",
       "<table border=\"1\" class=\"dataframe\">\n",
       "  <thead>\n",
       "    <tr style=\"text-align: right;\">\n",
       "      <th></th>\n",
       "      <th>Topic</th>\n",
       "      <th>Message</th>\n",
       "      <th>Count</th>\n",
       "      <th>Connections</th>\n",
       "      <th>Frequency</th>\n",
       "    </tr>\n",
       "  </thead>\n",
       "  <tbody>\n",
       "    <tr>\n",
       "      <th>0</th>\n",
       "      <td>/rosout</td>\n",
       "      <td>rosgraph_msgs/Log</td>\n",
       "      <td>4</td>\n",
       "      <td>2</td>\n",
       "      <td>54471.480519</td>\n",
       "    </tr>\n",
       "    <tr>\n",
       "      <th>1</th>\n",
       "      <td>/turtle1/cmd_vel</td>\n",
       "      <td>geometry_msgs/Twist</td>\n",
       "      <td>76</td>\n",
       "      <td>1</td>\n",
       "      <td>3.958306</td>\n",
       "    </tr>\n",
       "    <tr>\n",
       "      <th>2</th>\n",
       "      <td>/turtle1/color_sensor</td>\n",
       "      <td>turtlesim/Color</td>\n",
       "      <td>8979</td>\n",
       "      <td>1</td>\n",
       "      <td>62.804495</td>\n",
       "    </tr>\n",
       "    <tr>\n",
       "      <th>3</th>\n",
       "      <td>/turtle1/pose</td>\n",
       "      <td>turtlesim/Pose</td>\n",
       "      <td>8980</td>\n",
       "      <td>1</td>\n",
       "      <td>62.803085</td>\n",
       "    </tr>\n",
       "  </tbody>\n",
       "</table>\n",
       "</div>"
      ],
      "text/plain": [
       "                   Topic              Message Count Connections     Frequency\n",
       "0                /rosout    rosgraph_msgs/Log     4           2  54471.480519\n",
       "1       /turtle1/cmd_vel  geometry_msgs/Twist    76           1      3.958306\n",
       "2  /turtle1/color_sensor      turtlesim/Color  8979           1     62.804495\n",
       "3          /turtle1/pose       turtlesim/Pose  8980           1     62.803085"
      ]
     },
     "execution_count": 7,
     "metadata": {},
     "output_type": "execute_result"
    }
   ],
   "source": [
    "df_turtlesim = ros_bag_turtle_sim.bag_to_pandas()\n",
    "df_turtlesim.head(10)"
   ]
  },
  {
   "cell_type": "markdown",
   "metadata": {},
   "source": [
    "## Pandas visualization"
   ]
  },
  {
   "cell_type": "code",
   "execution_count": 8,
   "metadata": {},
   "outputs": [
    {
     "data": {
      "image/png": "[encoded data removed]",
      "text/plain": [
       "<Figure size 432x288 with 1 Axes>"
      ]
     },
     "metadata": {},
     "output_type": "display_data"
    }
   ],
   "source": [
    "# Topics frequencies\n",
    "df_turtlesim.Frequency.groupby(df_turtlesim.Topic).sum().plot(kind='pie')\n",
    "plt.axis('equal')\n",
    "plt.show()"
   ]
  },
  {
   "cell_type": "code",
   "execution_count": 9,
   "metadata": {},
   "outputs": [
    {
     "data": {
      "image/png": "[encoded data removed]",
      "text/plain": [
       "<Figure size 432x288 with 1 Axes>"
      ]
     },
     "metadata": {},
     "output_type": "display_data"
    }
   ],
   "source": [
    "# Connections per message\n",
    "df_turtlesim.Connections.groupby(df_turtlesim.Message).sum().plot(kind='pie')\n",
    "plt.axis('equal')\n",
    "plt.show()"
   ]
  },
  {
   "cell_type": "code",
   "execution_count": 10,
   "metadata": {},
   "outputs": [],
   "source": [
    "# control flow data visualization\n",
    "# give df to java side (backend to frontend)\n",
    "# filter bag based on string topics (not rest of topics)\n",
    "# next week: multiple ways of communication\n",
    "# if questions: raise issue and tag santosh\n",
    "# how to connect d3.js with python\n",
    "# debul: test cases in developments (unit test python framework)"
   ]
  }
 ],
 "metadata": {
  "kernelspec": {
   "display_name": "Python 3",
   "language": "python",
   "name": "python3"
  },
  "language_info": {
   "codemirror_mode": {
    "name": "ipython",
    "version": 3
   },
   "file_extension": ".py",
   "mimetype": "text/x-python",
   "name": "python",
   "nbconvert_exporter": "python",
   "pygments_lexer": "ipython3",
   "version": "3.6.9"
  }
 },
 "nbformat": 4,
 "nbformat_minor": 2
}
