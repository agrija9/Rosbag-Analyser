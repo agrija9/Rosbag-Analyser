{
 "cells": [
  {
   "cell_type": "markdown",
   "metadata": {},
   "source": [
    "## RosBag class to process bag files "
   ]
  },
  {
   "cell_type": "code",
   "execution_count": 53,
   "metadata": {},
   "outputs": [],
   "source": [
    "import rosbag\n",
    "import time\n",
    "import glob\n",
    "import rospy\n",
    "\n",
    "class RosBag():\n",
    "    \"\"\"\n",
    "    RosBag object containing methods to:\n",
    "    Read, pre-process and plot data given a ROS bag file\n",
    "    \n",
    "    Input: bag_name\n",
    "        string: name of bag file in directory\n",
    "    \"\"\"\n",
    "    \n",
    "    def __init__(self, bag_name):\n",
    "        self.bag = rosbag.Bag(bag_name)\n",
    "    \n",
    "    def convert_time(self, tm):\n",
    "        return time.strftime(\"%a, %d %b %Y %H:%M:%S +0000\", time.localtime(tm))\n",
    "    \n",
    "    def get_bag_general_info(self):\n",
    "        print('--------------------------------------------------------------------')\n",
    "        print(\"ROS bag general information:\")\n",
    "        print(self.bag)\n",
    "\n",
    "    def get_bag_info(self):\n",
    "        Start_Time = self.convert_time(self.bag.get_start_time())\n",
    "        End_Time = self.convert_time(self.bag.get_end_time())\n",
    "        \n",
    "        Messages = self.bag.get_type_and_topic_info()[0].keys()\n",
    "        Topics = self.bag.get_type_and_topic_info()[1].keys()\n",
    "        msgs = [self.bag.get_type_and_topic_info()[1].get(i) for i in self.bag.get_type_and_topic_info()[1].keys()]\n",
    "        print('Start Time : ' + str(Start_Time))\n",
    "        print('End Time : ' + str(End_Time))\n",
    "        print('Messages : ' + str(Messages))\n",
    "        print('Topics : ' + str(Topics))\n",
    "        \n",
    "        print('--------------------------------------------------------------------')\n",
    "        print('Topics and Messages :')\n",
    "        for idx, j in enumerate(Topics):\n",
    "            print('\\n')\n",
    "            print('Topic : ' + str(j))\n",
    "            print('Message : ' + str(msgs[idx].msg_type))\n",
    "            print('Count : ' + str(msgs[idx].message_count))\n",
    "            print('Connections : ' + str(msgs[idx].connections))\n",
    "            print('Frequency : ' + str(round(msgs[idx].frequency, 1)) + ' Hz')\n",
    "            \n",
    "        self.bag.close()\n",
    "        "
   ]
  },
  {
   "cell_type": "code",
   "execution_count": 54,
   "metadata": {},
   "outputs": [],
   "source": [
    "# read all bag files in folder\n",
    "bag_names = glob.glob(\"bagfiles/*.bag\")"
   ]
  },
  {
   "cell_type": "code",
   "execution_count": 55,
   "metadata": {},
   "outputs": [],
   "source": [
    "# instantiate ros_bag object\n",
    "ros_bag = RosBag(bag_names[0])\n",
    "# ros_bag = rosbag.Bag(bag_names[0])\n",
    "# print(ros_bag)"
   ]
  },
  {
   "cell_type": "code",
   "execution_count": 56,
   "metadata": {},
   "outputs": [
    {
     "name": "stdout",
     "output_type": "stream",
     "text": [
      "--------------------------------------------------------------------\n",
      "ROS bag general information:\n",
      "path:        bagfiles/2019-10-24-13-52-05.bag\n",
      "version:     2.0\n",
      "duration:    2:23s (143s)\n",
      "start:       Oct 24 2019 13:52:05.93 (1571917925.93)\n",
      "end:         Oct 24 2019 13:54:29.80 (1571918069.80)\n",
      "size:        1.2 MB\n",
      "messages:    18039\n",
      "compression: none [2/2 chunks]\n",
      "types:       geometry_msgs/Twist [9f195f881246fdfa2798d1d3eebca84a]\n",
      "             rosgraph_msgs/Log   [acffd30cd6b6de30f120938c17c593fb]\n",
      "             turtlesim/Color     [353891e354491c51aabe32df673fb446]\n",
      "             turtlesim/Pose      [863b248d5016ca62ea2e895ae5265cf9]\n",
      "topics:      /rosout                    4 msgs @ 54.5 kHz : rosgraph_msgs/Log   (2 connections)\n",
      "             /turtle1/cmd_vel          76 msgs @   4.0 Hz : geometry_msgs/Twist\n",
      "             /turtle1/color_sensor   8979 msgs @  62.8 Hz : turtlesim/Color    \n",
      "             /turtle1/pose           8980 msgs @  62.8 Hz : turtlesim/Pose\n"
     ]
    }
   ],
   "source": [
    "ros_bag.get_bag_general_info()"
   ]
  },
  {
   "cell_type": "code",
   "execution_count": 57,
   "metadata": {},
   "outputs": [
    {
     "name": "stdout",
     "output_type": "stream",
     "text": [
      "Start Time : Thu, 24 Oct 2019 13:52:05 +0000\n",
      "End Time : Thu, 24 Oct 2019 13:54:29 +0000\n",
      "Messages : dict_keys(['turtlesim/Pose', 'geometry_msgs/Twist', 'rosgraph_msgs/Log', 'turtlesim/Color'])\n",
      "Topics : dict_keys(['/rosout', '/turtle1/cmd_vel', '/turtle1/pose', '/turtle1/color_sensor'])\n",
      "--------------------------------------------------------------------\n",
      "Topics and Messages :\n",
      "\n",
      "\n",
      "Topic : /rosout\n",
      "Message : rosgraph_msgs/Log\n",
      "Count : 4\n",
      "Connections : 2\n",
      "Frequency : 54471.5 Hz\n",
      "\n",
      "\n",
      "Topic : /turtle1/cmd_vel\n",
      "Message : geometry_msgs/Twist\n",
      "Count : 76\n",
      "Connections : 1\n",
      "Frequency : 4.0 Hz\n",
      "\n",
      "\n",
      "Topic : /turtle1/pose\n",
      "Message : turtlesim/Pose\n",
      "Count : 8980\n",
      "Connections : 1\n",
      "Frequency : 62.8 Hz\n",
      "\n",
      "\n",
      "Topic : /turtle1/color_sensor\n",
      "Message : turtlesim/Color\n",
      "Count : 8979\n",
      "Connections : 1\n",
      "Frequency : 62.8 Hz\n"
     ]
    }
   ],
   "source": [
    "ros_bag.get_bag_info()"
   ]
  }
 ],
 "metadata": {
  "kernelspec": {
   "display_name": "Python 3",
   "language": "python",
   "name": "python3"
  },
  "language_info": {
   "codemirror_mode": {
    "name": "ipython",
    "version": 3
   },
   "file_extension": ".py",
   "mimetype": "text/x-python",
   "name": "python",
   "nbconvert_exporter": "python",
   "pygments_lexer": "ipython3",
   "version": "3.5.2"
  }
 },
 "nbformat": 4,
 "nbformat_minor": 2
}
